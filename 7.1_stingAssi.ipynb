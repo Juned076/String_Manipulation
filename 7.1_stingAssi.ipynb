{
 "cells": [
  {
   "cell_type": "markdown",
   "id": "233550df-5cff-4a8c-a9e4-a1c7d28eac59",
   "metadata": {},
   "source": [
    "### Question :- 1"
   ]
  },
  {
   "cell_type": "code",
   "execution_count": 3,
   "id": "2978c657-124e-4f9b-9343-6314861f715b",
   "metadata": {},
   "outputs": [
    {
     "name": "stdout",
     "output_type": "stream",
     "text": [
      "The Length of my_str is 66\n",
      "True\n",
      "Type of my_str is : <class 'str'>\n"
     ]
    }
   ],
   "source": [
    "#Write the code to get the output mentioned below print statement\n",
    "my_str = \"Although that way may not be obvious at first unless you're Dutch.\"\n",
    "my_str1 = \"Although that way may not be obvious at first unless you're Dutch.\"\n",
    "\n",
    "print(\"The Length of my_str is\",len(my_str))\n",
    "#output:- The length of my_str is 66\n",
    "\n",
    "print(my_str == my_str1)\n",
    "#output:- id of my_str and my_str1 is same? - True/False\n",
    "\n",
    "print('Type of my_str is :', type(my_str))\n",
    "#output:- Type of my_str is: str"
   ]
  },
  {
   "cell_type": "markdown",
   "id": "cb89b076-936b-4e66-a82a-ed93db996c5a",
   "metadata": {},
   "source": [
    "### Question :- 2"
   ]
  },
  {
   "cell_type": "code",
   "execution_count": 10,
   "id": "690e39c8-8bc7-4555-bea6-14911be6ba53",
   "metadata": {},
   "outputs": [
    {
     "name": "stdout",
     "output_type": "stream",
     "text": [
      "The first character in my_str is: A\n",
      "The last character in my_str is: h\n",
      "The character at index 10 in my_str is:  \n",
      "The last character in my_str is:  h\n",
      " The last character in my_str is: h\n",
      "\n"
     ]
    }
   ],
   "source": [
    "#Indexing\n",
    "my_str = \"Although 8 that way may not be obvious at first unless you're Dutch\"\n",
    "#Write the code to get the output,instructions are mentioned below print statement. use indexing\n",
    "\n",
    "print(\"The first character in my_str is:\", my_str[0])\n",
    "#output:- The first character in my_str is: A\n",
    "#Note:- Use positive indexing\n",
    "\n",
    "print(\"The last character in my_str is:\", my_str[len(my_str)-1])\n",
    "#output:- The first character in my_str is: h\n",
    "#Note:- Use len() function.\n",
    "\n",
    "print(\"The character at index 10 in my_str is:\", my_str[10])\n",
    "#output:- The character at index 10 in my_str is: ' '\n",
    "#Note:- Use positive indexing\n",
    "\n",
    "print(\"The last character in my_str is: \", my_str[-1])\n",
    "#output:- The last character in my_str is: h\n",
    "#Note:- Use negative indexing.\n",
    "\n",
    "print(\" The last character in my_str is:\",my_str[len(my_str)-1])\n",
    "#output:- The last character in my_str is: h\n",
    "#Note:- Use len() function.\n",
    "\n",
    "print(\" The character in my_str is: \")\n",
    "#output:- The character in my_str is: 8\n",
    "#Note:- Use positive index"
   ]
  },
  {
   "cell_type": "markdown",
   "id": "8e247791-d316-41df-87e9-f3d5564db064",
   "metadata": {},
   "source": [
    "### Question :- 3"
   ]
  },
  {
   "cell_type": "code",
   "execution_count": 39,
   "id": "1e1b650e-303d-4f34-a11c-9b8a8895b47b",
   "metadata": {},
   "outputs": [
    {
     "name": "stdout",
     "output_type": "stream",
     "text": [
      "Although that way may not be obvious at first unless you're Dutch.\n",
      "Although that way may not be obvious at first unless you're Dutch.\n",
      "Although that way may not be obvious at first unless you're Dutch.\n",
      "Although that way may not be obvious at first unless you're Dutch.\n",
      "\n",
      "Atog htwymyntb biu tfrtuls o'eDth\n",
      "Ahgttam tebo  r lsorDc\n",
      ".hctuD er'uoy sselnu tsrif ta suoivbo eb ton yam yaw taht hguohtlA\n",
      ".hctuD er'uoy sselnu tsrif ta suoivbo eb ton yam yaw taht hguohtlA\n",
      ".cu ruysen si asovoe o a a athuhl\n",
      ".cu ruysen si asovoe o a a athuhl\n",
      "\n",
      " yaw ta\n",
      "ess you\n"
     ]
    }
   ],
   "source": [
    "#Slicing\n",
    "my_str = \"Although that way may not be obvious at first unless you're Dutch.\"\n",
    "#Write the code to get the output,instructions are mentioned below print statement. use slicing\n",
    "print(my_str[:])\n",
    "#output:- You have sliced: Although that way may not be obvious at first unless you're Dutch.Without begin, end and step\n",
    "\n",
    "\n",
    "print(my_str[0:len(my_str):])\n",
    "#output:- You have sliced: Although that way may not be obvious at first unless you're Dutch.with begin as 0 end using len and without step\n",
    "\n",
    "\n",
    "print(my_str[::1])\n",
    "#output:- You have sliced: Although that way may not be obvious at first unless you're Dutch.without begin and end but using step\n",
    "\n",
    "\n",
    "print(my_str[0:len(my_str):1])\n",
    "#output:- You have sliced: Although that way may not be obvious at first unless you're Dutch.With begin, end and step\n",
    "\n",
    "\n",
    "print(my_str[0:len(my_str):-1])\n",
    "#output:- You have sliced:   .with using begin and end using postive values and step as negative values.\n",
    "#Slicing command should print empty string.\n",
    "\n",
    "\n",
    "print(my_str[::2])\n",
    "#output:- You have sliced: Atog htwymyntb biu tfrtuls o'eDth\n",
    "\n",
    "\n",
    "print(my_str[::3])\n",
    "#output:- You have sliced: Ahgttam tebo  r lsorDc\n",
    "\n",
    "\n",
    "print(my_str[::-1])\n",
    "#output:- You have sliced: .hctuD er'uoy sselnu tsrif ta suoivbo eb ton yam yaw taht hguohtlA. Use only step\n",
    "\n",
    "\n",
    "print(my_str[len(my_str)::-1])\n",
    "#output:- You have sliced: .hctuD er'uoy sselnu tsrif ta suoivbo eb ton yam yaw taht hguohtlA. Use begin end and step.\n",
    "\n",
    "\n",
    "print(my_str[::-2])\n",
    "#output:- You have sliced: .cu ruysen si asovoe o a a athuhl. use only step\n",
    "\n",
    "\n",
    "print(my_str[len(my_str)::-2])\n",
    "#output:- You have sliced: .cu ruysen si asovoe o a a athuhl. use begin, end and step.\n",
    "\n",
    "\n",
    "print(my_str[10:17:-1])\n",
    "#What will be the output?\n",
    "\n",
    "\n",
    "print(my_str[17:10:-1])\n",
    "#output:- You have sliced: yaw ta, Using begin, end and step.\n",
    "\n",
    "print(my_str[49:56:])\n",
    "#output:- You have sliced: ess you. Using begin, end and step."
   ]
  },
  {
   "cell_type": "markdown",
   "id": "7ad84ad7-d928-48ad-b926-702cff470481",
   "metadata": {},
   "source": [
    "### Question :- 4"
   ]
  },
  {
   "cell_type": "code",
   "execution_count": 41,
   "id": "f5a1758a-524b-4c11-ae45-ea3013a4d325",
   "metadata": {},
   "outputs": [
    {
     "name": "stdout",
     "output_type": "stream",
     "text": [
      "Learning Python\n",
      "LearningLearningLearning\n"
     ]
    }
   ],
   "source": [
    "#Basic operation on string\n",
    "str1 = 'Learning'\n",
    "str2 = 'Python'\n",
    "\n",
    "#Write the code to get the output,instructions are mentioned below.\n",
    "#Output is: Learning Python\n",
    "print(str1+\" \"+str2)\n",
    "\n",
    "#Find below Output\n",
    "#Output is: LearningLearningLearning\n",
    "print(str1*3)\n"
   ]
  },
  {
   "cell_type": "markdown",
   "id": "991b385f-0368-4205-8b95-804d566306a2",
   "metadata": {},
   "source": [
    "### Question :- 5"
   ]
  },
  {
   "cell_type": "code",
   "execution_count": 48,
   "id": "29a7bacb-c289-4248-b253-e8490a6f388c",
   "metadata": {},
   "outputs": [
    {
     "name": "stdout",
     "output_type": "stream",
     "text": [
      "True\n",
      "False\n",
      "False\n",
      "True\n",
      "True\n",
      "False\n"
     ]
    }
   ],
   "source": [
    "#Find below Output\n",
    "str1 = 'Python'\n",
    "str2 = 'Python'\n",
    "str3 = 'Python$'\n",
    "str4 = 'Python$'\n",
    "\n",
    "#print True by using identity operator between str1 and str2\n",
    "print(str1 is str2)\n",
    "\n",
    "#print False by using identity operator between str1 and str3\n",
    "print(str1 is str3)\n",
    "\n",
    "#print False by using identity operator between str4 and str3\n",
    "print(str4 is str3)\n",
    "\n",
    "#Check if P is available in str1 and print True by using membership operator\n",
    "print(\"P\" in str1)\n",
    "\n",
    "#Check if $ is available in str3 and print True by using membership operator\n",
    "print(\"$\" in str3)\n",
    "\n",
    "#Check if N is available in str3 and print False by using membership operator\n",
    "print(\"N\" in str3)"
   ]
  },
  {
   "cell_type": "markdown",
   "id": "cb1ef174-9d8d-4f6d-a878-5439bf450af1",
   "metadata": {},
   "source": [
    "### Question :- 6"
   ]
  },
  {
   "cell_type": "code",
   "execution_count": 61,
   "id": "fed74b2e-57f4-4501-9051-aa90794e7fca",
   "metadata": {},
   "outputs": [
    {
     "name": "stdout",
     "output_type": "stream",
     "text": [
      "Python \n",
      "This is java class\n"
     ]
    },
    {
     "data": {
      "text/plain": [
       "'This is Python class'"
      ]
     },
     "execution_count": 61,
     "metadata": {},
     "output_type": "execute_result"
    }
   ],
   "source": [
    "#Complete the below code\n",
    "str1 = 'This is Python class'\n",
    "#write the code to replace 'Python' with 'Java' and you should get below error.\n",
    "#TypeError: 'str' object does not support item assignment.\n",
    "print(str1[8:15:])\n",
    "print(str1.replace(\"Python\",\"java\"))\n",
    "str1"
   ]
  },
  {
   "cell_type": "markdown",
   "id": "d45f93fe-faf0-490b-9ace-8c8cf0e85704",
   "metadata": {},
   "source": [
    "### Question :- 7"
   ]
  },
  {
   "cell_type": "code",
   "execution_count": 64,
   "id": "aa98e281-bf5c-4468-819a-5940c1cae11a",
   "metadata": {},
   "outputs": [
    {
     "name": "stdout",
     "output_type": "stream",
     "text": [
      "True\n",
      "True\n",
      "False\n",
      "False\n"
     ]
    }
   ],
   "source": [
    "str1 = 'A'\n",
    "str2 = 'A'\n",
    "#Compare str1 and str2 and print True using comparison operator\n",
    "print(str1 == str2)\n",
    "\n",
    "#Compare str1 and str2 and print True using equality operator\n",
    "print(str1 == str2)\n",
    "\n",
    "#Compare str1 and str2 and print False using equality operator\n",
    "print(str1 != str2)\n",
    "\n",
    "#Compare str1 and str2 and print False using comparison operator\n",
    "print(str1 != str2)"
   ]
  },
  {
   "cell_type": "markdown",
   "id": "065db3c0-03eb-4aee-bb3d-d9e0e2b5c824",
   "metadata": {},
   "source": [
    "### Question :- 8"
   ]
  },
  {
   "cell_type": "code",
   "execution_count": 70,
   "id": "34a8f234-aedf-4000-b7b3-4af0362e6974",
   "metadata": {},
   "outputs": [
    {
     "name": "stdout",
     "output_type": "stream",
     "text": [
      "True\n",
      "True\n",
      "False\n",
      "False\n"
     ]
    }
   ],
   "source": [
    "str1 = 'A'\n",
    "str2 = 'a'\n",
    "#Compare str1 and str2 and print True using comparison operator\n",
    "print(str1 != str2)\n",
    "\n",
    "#Compare str1 and str2 and print True using equality operator\n",
    "print(str1 != str2)\n",
    "\n",
    "#Compare str1 and str2 and print False using equality operator\n",
    "print(str1 == str2)\n",
    "\n",
    "#Compare str1 and str2 and print False using comparison operator\n",
    "print(str1 == str2)"
   ]
  },
  {
   "cell_type": "markdown",
   "id": "d3b53ecf-9aeb-47a7-a23a-55ad016b3631",
   "metadata": {},
   "source": [
    "### Question :- 9"
   ]
  },
  {
   "cell_type": "code",
   "execution_count": 74,
   "id": "05b2972c-3e8d-4925-8dc2-9edfd29d81ac",
   "metadata": {},
   "outputs": [
    {
     "name": "stdout",
     "output_type": "stream",
     "text": [
      "False\n",
      "True\n",
      "False\n"
     ]
    }
   ],
   "source": [
    "str1 = 'A'\n",
    "str2 = '65'\n",
    "#Compare str1 and str2 using comparison operator and it should give below error.\n",
    "print(str1 == str2)\n",
    "\n",
    "#Error: TypeError: '>=' not supported between instances of 'str' and 'int'\n",
    "\n",
    "#Compare str1 and str2 and print True using equality operator\n",
    "print(str1 != str2)\n",
    "\n",
    "#Compare str1 and str2 and print False using equality operator\n",
    "print(str1 == str2)"
   ]
  },
  {
   "cell_type": "markdown",
   "id": "9adeb20f-b08e-450e-9a11-159b558b7c94",
   "metadata": {},
   "source": [
    "### Question :- 10"
   ]
  },
  {
   "cell_type": "code",
   "execution_count": 75,
   "id": "ed0acf73-3980-49d0-a0f4-70bf8ed7d6ec",
   "metadata": {},
   "outputs": [
    {
     "name": "stdout",
     "output_type": "stream",
     "text": [
      "True\n",
      "True\n",
      "False\n",
      "False\n"
     ]
    }
   ],
   "source": [
    "str1 = 'Python'\n",
    "str2 = 'Python'\n",
    "#Compare str1 and str2 and print True using comparison operator\n",
    "print(str1 == str2)\n",
    "\n",
    "#Compare str1 and str2 and print True using equality operator\n",
    "print(str1 == str2)\n",
    "\n",
    "#Compare str1 and str2 and print False using equality operator\n",
    "print(str1 != str2)\n",
    "\n",
    "#Compare str1 and str2 and print False using comparison operator\n",
    "print(str1 != str2)"
   ]
  },
  {
   "cell_type": "markdown",
   "id": "3e23d7a9-1add-4d25-a07b-0d3f4caa8c6b",
   "metadata": {},
   "source": [
    "### Question :- 11"
   ]
  },
  {
   "cell_type": "code",
   "execution_count": 76,
   "id": "a50e00a1-39de-4c85-ac60-7b19a3d018b8",
   "metadata": {},
   "outputs": [
    {
     "name": "stdout",
     "output_type": "stream",
     "text": [
      "True\n",
      "True\n",
      "False\n",
      "False\n"
     ]
    }
   ],
   "source": [
    "str1 = 'Python'\n",
    "str2 = 'python'\n",
    "#Compare str1 and str2 and print True using comparison operator\n",
    "print(str1 != str2)\n",
    "\n",
    "#Compare str1 and str2 and print True using equality operator\n",
    "print(str1 != str2)\n",
    "\n",
    "#Compare str1 and str2 and print False using equality operator\n",
    "print(str1 == str2)\n",
    "\n",
    "#Compare str1 and str2 and print False using comparison operator\n",
    "print(str1 == str2)\n"
   ]
  },
  {
   "cell_type": "markdown",
   "id": "d716d91c-e9b3-4d05-a0eb-260f3fb85dfa",
   "metadata": {},
   "source": [
    "### Question :- 12"
   ]
  },
  {
   "cell_type": "code",
   "execution_count": 84,
   "id": "5136fa74-683f-457b-9856-1b0d2f51459d",
   "metadata": {},
   "outputs": [
    {
     "name": "stdout",
     "output_type": "stream",
     "text": [
      "\n",
      "Python\n",
      "\n",
      "Python\n",
      "False\n",
      "True\n"
     ]
    }
   ],
   "source": [
    "a = 'Python'\n",
    "b = ''\n",
    "\n",
    "#Apply logical opereators (and, or & not) on above string values and observe the output.\n",
    "print(a and b)\n",
    "print(a or b)\n",
    "print(b and a)\n",
    "print(b or a)\n",
    "print(not a)\n",
    "print(not b)"
   ]
  },
  {
   "cell_type": "markdown",
   "id": "1ac43166-fd78-4065-885f-a79f5707a9e4",
   "metadata": {},
   "source": [
    "### Question :- 13"
   ]
  },
  {
   "cell_type": "code",
   "execution_count": 87,
   "id": "78415e1a-0eb1-4a69-b5c6-0cd7f1c73f51",
   "metadata": {},
   "outputs": [
    {
     "name": "stdout",
     "output_type": "stream",
     "text": [
      "\n",
      "\n",
      "True\n"
     ]
    }
   ],
   "source": [
    "a = ''\n",
    "b = ''\n",
    "\n",
    "#Apply logical opereators (and, or & not) on above string values and observe the output.\n",
    "print(a and b)\n",
    "print(a or b)\n",
    "print(not a)"
   ]
  },
  {
   "cell_type": "markdown",
   "id": "1ea29425-ef4e-4a9b-8b36-18dbde7046fe",
   "metadata": {},
   "source": [
    "### Question :- 14"
   ]
  },
  {
   "cell_type": "code",
   "execution_count": 96,
   "id": "c067facc-9c38-4f2c-a845-a7587e5f645f",
   "metadata": {},
   "outputs": [
    {
     "name": "stdout",
     "output_type": "stream",
     "text": [
      "2\n",
      "2\n",
      "7\n",
      "9\n",
      "9\n",
      "-1\n",
      "11\n",
      "63\n",
      "63\n"
     ]
    }
   ],
   "source": [
    "my_str = \"Although 8 that way may not be obvious at first unless you're Dutch\"\n",
    "\n",
    "#Write the code to get the total count of 't' in above string. Use find() and index() method.\n",
    "print(my_str.find(\"t\"))\n",
    "print(my_str.index(\"t\"))\n",
    "print(my_str.count(\"t\"))\n",
    "#Write the code to get the index of '8' in my_str. Use find() and index() method.\n",
    "print(my_str.find(\"8\"))\n",
    "print(my_str.index(\"8\"))\n",
    "\n",
    "#What will be the output of below code?\n",
    "print(my_str.find('the'))\n",
    "\n",
    "\n",
    "# print(my_str.index('the'))\n",
    "\n",
    "\n",
    "print(my_str.find('t', 9, 15))\n",
    "\n",
    "\n",
    "print(my_str.rfind('u'))\n",
    "\n",
    "\n",
    "print(my_str.rindex('u'))\n",
    "\n"
   ]
  },
  {
   "cell_type": "markdown",
   "id": "9a8b382a-0948-47ce-9ec2-ebe8a7189bdf",
   "metadata": {},
   "source": [
    "### Question :- 15"
   ]
  },
  {
   "cell_type": "code",
   "execution_count": 101,
   "id": "0bb20f89-c2a2-422d-b06c-7517aa8b0aea",
   "metadata": {},
   "outputs": [
    {
     "name": "stdout",
     "output_type": "stream",
     "text": [
      "Python\n",
      "Python\n",
      "Python\n"
     ]
    }
   ],
   "source": [
    "#W A P which applies strip() method if any string, which will be taken from user, starts and ends with space, or applies \n",
    "#rrstrip() method if that string only ends with space or applies lstrip() method if that string only starts with a space.\n",
    "str1 = \"Python      \"\n",
    "str2 = \"          Python\"\n",
    "str3 = \"      Python        \"\n",
    "#For example:-\n",
    "#input:- '    Python   '\n",
    "print(str1.rstrip())\n",
    "#output:- 'Python'\n",
    "\n",
    "#input:- '    Python'\n",
    "print(str2.lstrip())\n",
    "#output:- 'Python'\n",
    "\n",
    "#input:- 'Python   '\n",
    "print(str3.strip())\n",
    "#output:- 'Python'"
   ]
  },
  {
   "cell_type": "markdown",
   "id": "a68ff17f-4439-4113-a657-4af087bc1a74",
   "metadata": {},
   "source": [
    "### Question :- 16"
   ]
  },
  {
   "cell_type": "code",
   "execution_count": 104,
   "id": "2cae0953-3a23-44b5-8b9f-050ffb0dbb1c",
   "metadata": {},
   "outputs": [
    {
     "name": "stdout",
     "output_type": "stream",
     "text": [
      "ALTHOUGH 8 THAT WAY MAY NOT BE OBVIOUS AT FIRST UNLESS YOU'RE DUTCH\n",
      "although 8 that way may not be obvious at first unless you're dutch\n",
      "aLTHOUGH 8 THAT WAY MAY NOT BE OBVIOUS AT FIRST UNLESS YOU'RE dUTCH\n"
     ]
    }
   ],
   "source": [
    "my_str = \"Although 8 that way may not be obvious at first unless you're Dutch\"\n",
    "\n",
    "#Write the code to convert all alphabets in my_str into upper case.\n",
    "print(my_str.upper())\n",
    "\n",
    "#Write the code to convert all alphabets in my_str into lower case.\n",
    "print(my_str.lower())\n",
    "\n",
    "#Write the code to swap the cases of all alphabets in my_str.(lower to upper and upper to lower)\n",
    "print(my_str.swapcase())\n",
    "\n"
   ]
  },
  {
   "cell_type": "markdown",
   "id": "d8148841-6bda-4c17-8c65-f065b02a8af4",
   "metadata": {},
   "source": [
    "### Question :- 17"
   ]
  },
  {
   "cell_type": "code",
   "execution_count": 110,
   "id": "9bcc1b11-fdaa-4f72-b9cf-7d4966cb21b3",
   "metadata": {},
   "outputs": [
    {
     "name": "stdin",
     "output_type": "stream",
     "text": [
      " juned mans\n"
     ]
    },
    {
     "name": "stdout",
     "output_type": "stream",
     "text": [
      "J\n",
      "juned mans\n"
     ]
    }
   ],
   "source": [
    "#Write the code which takes one string from user and if it starts with small case letter then convert it to corresponding \n",
    "#capital letter otherwise if starts with capital letters then convert first character of every word in that string into capital.\n",
    "\n",
    "inp = input()\n",
    "if inp[0].isupper():\n",
    "    print(inp.title())\n",
    "else:\n",
    "    print(inp[0].upper())\n",
    "print(inp)"
   ]
  },
  {
   "cell_type": "markdown",
   "id": "9ee8448a-b24d-480d-b65b-b8cfca271c78",
   "metadata": {},
   "source": [
    "### Question :- 17"
   ]
  },
  {
   "cell_type": "code",
   "execution_count": 112,
   "id": "301533cc-81b0-404c-9864-abec28b75508",
   "metadata": {},
   "outputs": [
    {
     "name": "stdin",
     "output_type": "stream",
     "text": [
      " juned mandi ljf\n"
     ]
    },
    {
     "name": "stdout",
     "output_type": "stream",
     "text": [
      "False\n",
      "True\n",
      "False\n"
     ]
    }
   ],
   "source": [
    "#Take a string from user and check if it is:-\n",
    "#     1. all letters are in lower case\n",
    "#     2. all letters are in upper case\n",
    "#     3. in title case\n",
    "\n",
    "inp = input()\n",
    "print(inp.isupper())\n",
    "print(inp.islower())\n",
    "print(inp.istitle())"
   ]
  },
  {
   "cell_type": "markdown",
   "id": "d6f6bfe8-8101-49fc-a06b-3ef9f01b0365",
   "metadata": {},
   "source": [
    "### Question :- 18"
   ]
  },
  {
   "cell_type": "code",
   "execution_count": 114,
   "id": "a7a8ea0b-0938-46ea-b61c-c70ce7dd2da7",
   "metadata": {},
   "outputs": [
    {
     "name": "stdout",
     "output_type": "stream",
     "text": [
      "True\n",
      "A\n",
      "False\n",
      "\u001b\n",
      "False\n",
      "True\n"
     ]
    }
   ],
   "source": [
    "#What will be output of below code?\n",
    "s = chr(65) + chr(97)\n",
    "print(s.isprintable())\n",
    "print(chr(65))\n",
    "s = chr(27) + chr(97)\n",
    "print(s.isprintable())\n",
    "print(chr(27))\n",
    "s = '\\n'\n",
    "print(s.isprintable())\n",
    "\n",
    "s = ''\n",
    "print(s.isprintable())"
   ]
  },
  {
   "cell_type": "markdown",
   "id": "521ca792-2a7c-4bc7-b81f-cb3831747b38",
   "metadata": {},
   "source": [
    "### Question :- 19"
   ]
  },
  {
   "cell_type": "code",
   "execution_count": 115,
   "id": "de6a92d5-bbb0-46a1-9670-d27486ef05b1",
   "metadata": {},
   "outputs": [
    {
     "name": "stdout",
     "output_type": "stream",
     "text": [
      "True\n",
      "True\n",
      "True\n",
      "True\n",
      "False\n",
      "False\n"
     ]
    }
   ],
   "source": [
    "#What will be output of below code? range 0-127\n",
    "my_string = '  '\n",
    "print(my_string.isascii())\n",
    "\n",
    "my_string = 'Studytonight'\n",
    "print(my_string.isascii())\n",
    "\n",
    "my_string = 'Study tonight'\n",
    "print(my_string.isascii())\n",
    "\n",
    "my_string = 'Studytonight@123'\n",
    "print(my_string.isascii())\n",
    "\n",
    "my_string = '°'\n",
    "print(my_string.isascii())\n",
    "\n",
    "my_string = 'ö'\n",
    "print(my_string.isascii())"
   ]
  },
  {
   "cell_type": "markdown",
   "id": "cc20991e-7023-4e9d-9a06-ffd575037851",
   "metadata": {},
   "source": [
    "### Question :- 20"
   ]
  },
  {
   "cell_type": "code",
   "execution_count": 116,
   "id": "3ea1aece-a911-44b1-b8de-c4e2540275e0",
   "metadata": {},
   "outputs": [
    {
     "name": "stdout",
     "output_type": "stream",
     "text": [
      "The strings are equal.\n"
     ]
    }
   ],
   "source": [
    "#What will be the output of below code?\n",
    "firstString = \"der Fluß\"\n",
    "secondString = \"der Fluss\"\n",
    "\n",
    "if firstString.casefold() == secondString.casefold():\n",
    "    print('The strings are equal.')\n",
    "else:\n",
    "    print('The strings are not equal.')\n"
   ]
  },
  {
   "cell_type": "markdown",
   "id": "c499f8c6-3c46-46fe-9c48-e71af3a7c815",
   "metadata": {},
   "source": [
    "### Question :- 21"
   ]
  },
  {
   "cell_type": "code",
   "execution_count": 120,
   "id": "c609a8d0-054a-4c6a-bee0-7f3bd87ea373",
   "metadata": {},
   "outputs": [
    {
     "name": "stdout",
     "output_type": "stream",
     "text": [
      "python**\n",
      "**python\n",
      "**python**\n"
     ]
    }
   ],
   "source": [
    "#Write the code to get below output\n",
    "#O/P 1:- python** (using ljust method)\n",
    "str1 = \"python\"\n",
    "print(str1.ljust(8,\"*\"))\n",
    "#Write the code to get below output\n",
    "#O/P 1:- **python (using rjust method)\n",
    "print(str1.rjust(8,\"*\"))\n",
    "\n",
    "#Write the code to get below output\n",
    "#O/P 1:- **python** (using rjust method)\n",
    "print(str1.center(10,\"*\"))"
   ]
  },
  {
   "cell_type": "markdown",
   "id": "bd5018b8-878a-4037-aab7-d3e3c68b8810",
   "metadata": {},
   "source": [
    "### Question :- 22"
   ]
  },
  {
   "cell_type": "code",
   "execution_count": 121,
   "id": "bf0a465b-df76-468f-bcc5-0b6c0fb00f87",
   "metadata": {},
   "outputs": [
    {
     "data": {
      "text/plain": [
       "55"
      ]
     },
     "execution_count": 121,
     "metadata": {},
     "output_type": "execute_result"
    }
   ],
   "source": [
    "#Write a Python program to find the length of the my_str:-\n",
    "\n",
    "Input =  'Write a Python program to find the length of the my_str'\n",
    "#Output:- 55\n",
    "len(Input)"
   ]
  },
  {
   "cell_type": "markdown",
   "id": "f13a6742-e9f1-44a9-967e-e1e27df788c6",
   "metadata": {},
   "source": [
    "### Question :- 23"
   ]
  },
  {
   "cell_type": "code",
   "execution_count": 123,
   "id": "9ac78ba1-b070-4dd1-b9ca-66aa6f2b20cb",
   "metadata": {},
   "outputs": [
    {
     "name": "stdout",
     "output_type": "stream",
     "text": [
      "9\n"
     ]
    }
   ],
   "source": [
    "#Write a Python program to find the total number of times letter 'p' is appeared in the below string:-\n",
    "    \n",
    "Input = 'peter piper picked a peck of pickled peppers.'\n",
    "#Output:- 9\n",
    "\n",
    "print(Input.count(\"p\"))"
   ]
  },
  {
   "cell_type": "markdown",
   "id": "081ec8cc-c13f-42b4-be33-66cb316c1065",
   "metadata": {},
   "source": [
    "### Question :- 24"
   ]
  },
  {
   "cell_type": "code",
   "execution_count": 125,
   "id": "f5f66265-b945-44e2-8f77-f55c578e3ea5",
   "metadata": {},
   "outputs": [
    {
     "name": "stdout",
     "output_type": "stream",
     "text": [
      "0\n",
      "6\n",
      "8\n",
      "12\n",
      "21\n",
      "29\n",
      "37\n",
      "39\n",
      "40\n"
     ]
    }
   ],
   "source": [
    "#Write a Python Program, to print all the indexes of all occurences of letter 'p' appeared in the string:-\n",
    "    \n",
    "inp = 'peter piper picked a peck of pickled peppers.'\n",
    "#Output:- \n",
    "# 0\n",
    "# 6\n",
    "# 8\n",
    "# 12\n",
    "# 21\n",
    "# 29\n",
    "# 37\n",
    "# 39\n",
    "# 40\n",
    "for i in range(len(inp)):\n",
    "    if inp[i] == \"p\":\n",
    "        print(i)"
   ]
  },
  {
   "cell_type": "markdown",
   "id": "e63340aa-69ba-45f6-a6a3-8ddbeae98f86",
   "metadata": {},
   "source": [
    "### Question :- 25"
   ]
  },
  {
   "cell_type": "code",
   "execution_count": 126,
   "id": "880c948a-acda-4aaf-ae4c-fac3c04988eb",
   "metadata": {},
   "outputs": [
    {
     "name": "stdout",
     "output_type": "stream",
     "text": [
      "['peter', 'piper', 'picked', 'a', 'peck', 'of', 'pickled', 'peppers.']\n"
     ]
    }
   ],
   "source": [
    "#Write a python program to find below output:-\n",
    "\n",
    "#Input:- 'peter piper picked a peck of pickled peppers.'\n",
    "#Output:- ['peter', 'piper', 'picked', 'a', 'peck', 'of', 'pickled', 'peppers.']\n",
    "print(inp.split())\n",
    "\n"
   ]
  },
  {
   "cell_type": "markdown",
   "id": "0201f04f-ccc1-4921-aea5-7559b4172798",
   "metadata": {},
   "source": [
    "### Question :- 26"
   ]
  },
  {
   "cell_type": "code",
   "execution_count": 132,
   "id": "17b48752-b0b4-4b40-bbd4-7d2d31a68438",
   "metadata": {},
   "outputs": [
    {
     "data": {
      "text/plain": [
       "'peppers. pickled of peck a picked piper peter'"
      ]
     },
     "execution_count": 132,
     "metadata": {},
     "output_type": "execute_result"
    }
   ],
   "source": [
    "#Write a python program to find below output:-\n",
    "\n",
    "Input = 'peter piper picked a peck of pickled peppers.'\n",
    "#Output:- 'peppers. pickled of peck a picked piper peter'\n",
    "jun = Input.split()[::-1]\n",
    "\" \".join(jun)"
   ]
  },
  {
   "cell_type": "markdown",
   "id": "ce67e0e7-c602-4050-a12f-64abb9c76cea",
   "metadata": {},
   "source": [
    "### Question :- 27"
   ]
  },
  {
   "cell_type": "code",
   "execution_count": 133,
   "id": "47f598ab-8c6b-4bfc-9594-db5a147d51f6",
   "metadata": {},
   "outputs": [
    {
     "data": {
      "text/plain": [
       "'.sreppep delkcip fo kcep a dekcip repip retep'"
      ]
     },
     "execution_count": 133,
     "metadata": {},
     "output_type": "execute_result"
    }
   ],
   "source": [
    "#Write a python program to find below output:-\n",
    "\n",
    "Input = 'peter piper picked a peck of pickled peppers.'\n",
    "#Output:- '.sreppep delkcip fo kcep a dekcip repip retep'\n",
    "Input[::-1]\n"
   ]
  },
  {
   "cell_type": "markdown",
   "id": "f3bc9d1a-318e-4ed0-b43b-c4c77fe5b966",
   "metadata": {},
   "source": [
    "### Question :- 28"
   ]
  },
  {
   "cell_type": "code",
   "execution_count": 157,
   "id": "d0c1d348-8c18-4593-8674-fe6029846db9",
   "metadata": {},
   "outputs": [
    {
     "data": {
      "text/plain": [
       "'retep repip dekcip a kcep fo delkcip .sreppep'"
      ]
     },
     "execution_count": 157,
     "metadata": {},
     "output_type": "execute_result"
    }
   ],
   "source": [
    "#Write a python program to find below output:-\n",
    "\n",
    "Input = 'peter piper picked a peck of pickled peppers.'\n",
    "#Output:- 'retep repip dekcip a kcep fo delkcip .sreppep'\n",
    "man =[]\n",
    "jun = Input.split()\n",
    "for i in range(len(jun)):\n",
    "    man.append(jun[i][::-1])\n",
    "\" \".join(man)\n"
   ]
  },
  {
   "cell_type": "markdown",
   "id": "044d1fea-02a5-4221-a9a7-6bfdec7abc22",
   "metadata": {},
   "source": [
    "### Question :- 29"
   ]
  },
  {
   "cell_type": "code",
   "execution_count": 158,
   "id": "90bad58e-7faf-4543-b73f-fdd50d7bb23c",
   "metadata": {},
   "outputs": [
    {
     "data": {
      "text/plain": [
       "'Peter Piper Picked A Peck Of Pickled Peppers.'"
      ]
     },
     "execution_count": 158,
     "metadata": {},
     "output_type": "execute_result"
    }
   ],
   "source": [
    "#Write a python program to find below output:-\n",
    "\n",
    "Input = 'peter piper picked a peck of pickled peppers.'\n",
    "#Output:- 'Peter Piper Picked A Peck Of Pickled Peppers.'\n",
    "Input.title()\n"
   ]
  },
  {
   "cell_type": "markdown",
   "id": "bfa29f3a-fd3a-498b-9902-4c50ce897e05",
   "metadata": {},
   "source": [
    "### Question :- 30"
   ]
  },
  {
   "cell_type": "code",
   "execution_count": 159,
   "id": "3820394b-de3e-4475-8b8a-42e9d41eb4e0",
   "metadata": {},
   "outputs": [
    {
     "data": {
      "text/plain": [
       "'Peter piper picked a peck of pickled peppers.'"
      ]
     },
     "execution_count": 159,
     "metadata": {},
     "output_type": "execute_result"
    }
   ],
   "source": [
    "#Write a python program to find below output:-\n",
    "\n",
    "Input = 'Peter Piper Picked A Peck Of Pickled Peppers.'\n",
    "#Output:- 'Peter piper picked a peck of pickled peppers.'\n",
    "Input.capitalize()\n"
   ]
  },
  {
   "cell_type": "markdown",
   "id": "d3078d28-93ca-4bd5-93e6-b48eba3f7101",
   "metadata": {},
   "source": [
    "### Question :- 31"
   ]
  },
  {
   "cell_type": "code",
   "execution_count": 161,
   "id": "c9c46564-b9ea-446e-8318-9953ad19d32d",
   "metadata": {},
   "outputs": [
    {
     "data": {
      "text/plain": [
       "29"
      ]
     },
     "execution_count": 161,
     "metadata": {},
     "output_type": "execute_result"
    }
   ],
   "source": [
    "#Write a python program to implement index method. If sub_str is found in my_str then it will print the index\n",
    "# of first occurrence of first character of matching string in my_str:-\n",
    "\n",
    "# Input:- \n",
    "my_str = 'Peter Piper Picked A Peck Of Pickled Peppers.'\n",
    "sub_str = 'Pickl'\n",
    "#Output:- 29\n",
    "my_str.index(sub_str)\n"
   ]
  },
  {
   "cell_type": "markdown",
   "id": "b5a666ae-dd7a-4859-9b2d-d7e703377028",
   "metadata": {},
   "source": [
    "### Question :- 32"
   ]
  },
  {
   "cell_type": "code",
   "execution_count": 165,
   "id": "77530d82-a11c-4d08-aef3-ab423b6f0783",
   "metadata": {},
   "outputs": [
    {
     "data": {
      "text/plain": [
       "'Peter Piper Picked A Pack Of Pickled Peppers.'"
      ]
     },
     "execution_count": 165,
     "metadata": {},
     "output_type": "execute_result"
    }
   ],
   "source": [
    "#Write a python program to implement replace method. If sub_str is found in my_str then it will replace the first \n",
    "#occurrence of sub_str with new_str else it will will print sub_str not found:-\n",
    "\n",
    "#Input:- \n",
    "my_str = 'Peter Piper Picked A Peck Of Pickled Peppers.'\n",
    "sub_str = 'Peck'\n",
    "new_str = 'Pack'\n",
    "#Output:- 'Peter Piper Picked A Pack Of Pickled Peppers.'\n",
    "my_str.replace(sub_str,new_str)\n"
   ]
  },
  {
   "cell_type": "markdown",
   "id": "76a8a0ea-5414-4321-9785-7cf134f0c399",
   "metadata": {},
   "source": [
    "### Question :- 33"
   ]
  },
  {
   "cell_type": "code",
   "execution_count": 171,
   "id": "3bb24ada-bed5-487d-b46a-e988c46f47e8",
   "metadata": {},
   "outputs": [
    {
     "ename": "AttributeError",
     "evalue": "'tuple' object has no attribute 'rjust'",
     "output_type": "error",
     "traceback": [
      "\u001b[1;31m---------------------------------------------------------------------------\u001b[0m",
      "\u001b[1;31mAttributeError\u001b[0m                            Traceback (most recent call last)",
      "Cell \u001b[1;32mIn[171], line 7\u001b[0m\n\u001b[0;32m      4\u001b[0m sub_str \u001b[38;5;241m=\u001b[39m \u001b[38;5;124m'\u001b[39m\u001b[38;5;124mPeck\u001b[39m\u001b[38;5;124m'\u001b[39m, \n\u001b[0;32m      5\u001b[0m \u001b[38;5;66;03m#Output:- '*********************Peck********************'\u001b[39;00m\n\u001b[1;32m----> 7\u001b[0m sub_str\u001b[38;5;241m.\u001b[39mrjust(\u001b[38;5;241m40\u001b[39m,\u001b[38;5;124m\"\u001b[39m\u001b[38;5;124m*\u001b[39m\u001b[38;5;124m\"\u001b[39m)\n",
      "\u001b[1;31mAttributeError\u001b[0m: 'tuple' object has no attribute 'rjust'"
     ]
    }
   ],
   "source": [
    "#Write a python program to find below output (implements rjust and ljust):-\n",
    "\n",
    "Input = 'Peter Piper Picked A Peck Of Pickled Peppers.'\n",
    "sub_str = 'Peck', \n",
    "#Output:- '*********************Peck********************'\n",
    "\n",
    "sub_str.rjust(40,\"*\")\n"
   ]
  },
  {
   "cell_type": "code",
   "execution_count": null,
   "id": "8645b19e-a01b-46af-9cc1-0b09cad830ce",
   "metadata": {},
   "outputs": [],
   "source": []
  },
  {
   "cell_type": "code",
   "execution_count": null,
   "id": "18c5992e-2b5d-4d10-8dcd-22a3c6183e74",
   "metadata": {},
   "outputs": [],
   "source": []
  },
  {
   "cell_type": "code",
   "execution_count": null,
   "id": "46f8ddc4-c5d0-4340-9fe5-98f66e025ff4",
   "metadata": {},
   "outputs": [],
   "source": []
  },
  {
   "cell_type": "code",
   "execution_count": null,
   "id": "e1ad7eb1-c4de-473e-8e91-33a4d705f75f",
   "metadata": {},
   "outputs": [],
   "source": []
  },
  {
   "cell_type": "code",
   "execution_count": null,
   "id": "921236ba-9600-4ac1-a519-d47ab5cd8c3b",
   "metadata": {},
   "outputs": [],
   "source": []
  },
  {
   "cell_type": "code",
   "execution_count": null,
   "id": "eba19fb3-21c1-41b8-8448-6ce54651c27b",
   "metadata": {},
   "outputs": [],
   "source": []
  },
  {
   "cell_type": "code",
   "execution_count": null,
   "id": "604e0638-1b18-434e-bc04-8b9b7d0be31a",
   "metadata": {},
   "outputs": [],
   "source": []
  },
  {
   "cell_type": "code",
   "execution_count": null,
   "id": "92d2b4ca-16ee-4db1-875e-486077e4cf42",
   "metadata": {},
   "outputs": [],
   "source": []
  },
  {
   "cell_type": "code",
   "execution_count": null,
   "id": "287ebedd-7860-483a-9659-55d02fded9a3",
   "metadata": {},
   "outputs": [],
   "source": []
  },
  {
   "cell_type": "code",
   "execution_count": null,
   "id": "c83d5dba-ff53-4b23-a17d-1dd973017053",
   "metadata": {},
   "outputs": [],
   "source": []
  }
 ],
 "metadata": {
  "kernelspec": {
   "display_name": "Python 3 (ipykernel)",
   "language": "python",
   "name": "python3"
  },
  "language_info": {
   "codemirror_mode": {
    "name": "ipython",
    "version": 3
   },
   "file_extension": ".py",
   "mimetype": "text/x-python",
   "name": "python",
   "nbconvert_exporter": "python",
   "pygments_lexer": "ipython3",
   "version": "3.13.5"
  }
 },
 "nbformat": 4,
 "nbformat_minor": 5
}
